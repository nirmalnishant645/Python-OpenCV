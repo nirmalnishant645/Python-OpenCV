{
 "cells": [
  {
   "cell_type": "markdown",
   "metadata": {},
   "source": [
    "'''Translation: Affine transform that simply shifts the position of an image'''"
   ]
  },
  {
   "cell_type": "code",
   "execution_count": 2,
   "metadata": {},
   "outputs": [],
   "source": [
    "import cv2\n",
    "import numpy as np\n",
    "\n",
    "image = cv2.imread('images/pic1.jpg',0)\n",
    "\n",
    "#Store height and width of the image\n",
    "height,width = img.shape\n",
    "\n",
    "#       | 1 0 Tx |\n",
    "#  T  = | 0 1 Ty |\n",
    "\n",
    "# T is the translation matrix\n",
    "T = np.float32([[1,0,50],[0,1,50]])\n",
    "\n",
    "# cv2.warpAffine(Source, Transformation, (Destination)\n",
    "image_translation = cv2.warpAffine(image,T,(width,height))\n",
    "\n",
    "cv2.imshow('image',image_translation)\n",
    "cv2.waitKey(0)\n",
    "cv2.destroyAllWindows()"
   ]
  },
  {
   "cell_type": "code",
   "execution_count": 3,
   "metadata": {},
   "outputs": [
    {
     "name": "stdout",
     "output_type": "stream",
     "text": [
      "[[ 1.  0. 50.]\n",
      " [ 0.  1. 50.]]\n"
     ]
    }
   ],
   "source": [
    "print (T)"
   ]
  }
 ],
 "metadata": {
  "kernelspec": {
   "display_name": "Python 3",
   "language": "python",
   "name": "python3"
  },
  "language_info": {
   "codemirror_mode": {
    "name": "ipython",
    "version": 3
   },
   "file_extension": ".py",
   "mimetype": "text/x-python",
   "name": "python",
   "nbconvert_exporter": "python",
   "pygments_lexer": "ipython3",
   "version": "3.6.5"
  }
 },
 "nbformat": 4,
 "nbformat_minor": 2
}
